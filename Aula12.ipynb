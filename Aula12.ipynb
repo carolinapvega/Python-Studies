{
 "cells": [
  {
   "cell_type": "markdown",
   "metadata": {},
   "source": [
    "Exercicio 46\n",
    "Contagem regressiva com pausa de 1 segundo entre a repetição"
   ]
  },
  {
   "cell_type": "code",
   "execution_count": 23,
   "metadata": {},
   "outputs": [
    {
     "name": "stdout",
     "output_type": "stream",
     "text": [
      "10\n",
      "9\n",
      "8\n",
      "7\n",
      "6\n",
      "5\n",
      "4\n",
      "3\n",
      "2\n",
      "1\n",
      "Já\n"
     ]
    }
   ],
   "source": [
    "from time import sleep\n",
    "\n",
    "for c in range(10, 0, -1):\n",
    "    print(c)\n",
    "    sleep(1)\n",
    "\n",
    "print(\"Já\")"
   ]
  },
  {
   "cell_type": "markdown",
   "metadata": {},
   "source": [
    "Exercicio 47 \n",
    "Todos os numeros pares entre 1 e 50"
   ]
  },
  {
   "cell_type": "code",
   "execution_count": 25,
   "metadata": {},
   "outputs": [
    {
     "name": "stdout",
     "output_type": "stream",
     "text": [
      "2\n",
      "4\n",
      "6\n",
      "8\n",
      "10\n",
      "12\n",
      "14\n",
      "16\n",
      "18\n",
      "20\n",
      "22\n",
      "24\n",
      "26\n",
      "28\n",
      "30\n",
      "32\n",
      "34\n",
      "36\n",
      "38\n",
      "40\n",
      "42\n",
      "44\n",
      "46\n",
      "48\n",
      "50\n"
     ]
    }
   ],
   "source": [
    "for p in range(2,51,2):\n",
    "    print (p)"
   ]
  },
  {
   "cell_type": "markdown",
   "metadata": {},
   "source": [
    "Exercicio 48\n",
    "Calcular a soma de todos os numero impares multiplos de 3 entre 1 e 500"
   ]
  },
  {
   "cell_type": "code",
   "execution_count": 68,
   "metadata": {},
   "outputs": [
    {
     "name": "stdout",
     "output_type": "stream",
     "text": [
      "20667\n"
     ]
    }
   ],
   "source": [
    "soma=0\n",
    "for c in range(1,501,2):\n",
    "   if c%3==0:\n",
    "     soma = soma+c\n",
    "\n",
    "print(soma)\n",
    "      "
   ]
  },
  {
   "cell_type": "markdown",
   "metadata": {},
   "source": [
    "Exercicio 49\n",
    "\n",
    "Programa que calcule a tabuada"
   ]
  },
  {
   "cell_type": "code",
   "execution_count": 30,
   "metadata": {},
   "outputs": [
    {
     "name": "stdout",
     "output_type": "stream",
     "text": [
      "1 x 50 = 50\n",
      "2 x 50 = 100\n",
      "3 x 50 = 150\n",
      "4 x 50 = 200\n",
      "5 x 50 = 250\n",
      "6 x 50 = 300\n",
      "7 x 50 = 350\n",
      "8 x 50 = 400\n",
      "9 x 50 = 450\n",
      "10 x 50 = 500\n",
      "Essa é a tabuada do 50\n"
     ]
    }
   ],
   "source": [
    "t=int(input(\"Qual tabuada voce quer que seja calculada?\"))\n",
    "for d in range (1,11):\n",
    "     print(d,\"x\", t, \"=\", (d*t))\n",
    "\n",
    "print(\"Essa é a tabuada do {}\".format(t))"
   ]
  },
  {
   "cell_type": "markdown",
   "metadata": {},
   "source": [
    "Exercicio 50 - Criar uma solucao para que  se recebam numeros inteiros e somente somem os numero pares"
   ]
  },
  {
   "cell_type": "code",
   "execution_count": 71,
   "metadata": {},
   "outputs": [
    {
     "name": "stdout",
     "output_type": "stream",
     "text": [
      "20\n"
     ]
    }
   ],
   "source": [
    "soma=0\n",
    "for c in range(1,7):\n",
    " int1=int(input(\"Digiteo numero:\"))\n",
    " if int1%2==0:\n",
    "    soma=soma+int1\n",
    "print(soma)\n",
    "\n",
    "\n",
    "\n",
    "\n",
    "\n"
   ]
  },
  {
   "cell_type": "markdown",
   "metadata": {},
   "source": [
    "Exercicio 51\n",
    "\n",
    "Criar uma PA com Python"
   ]
  },
  {
   "cell_type": "code",
   "execution_count": 73,
   "metadata": {},
   "outputs": [
    {
     "name": "stdout",
     "output_type": "stream",
     "text": [
      "Uma PA com razao 5 e primeiro termo 2 é:\n",
      "2\n",
      "7\n",
      "12\n",
      "17\n",
      "22\n",
      "27\n",
      "32\n",
      "37\n",
      "42\n",
      "47\n"
     ]
    }
   ],
   "source": [
    "primeiro=int(input(\"Qual o primeiro termo da funçao?\"))\n",
    "razao=int(input(\"Qual a razao da funçao?\"))\n",
    "ultimo=primeiro+(10-1)*razao\n",
    "ultimo=ultimo+1\n",
    "print(\"Uma PA com razao {} e primeiro termo {} é:\".format(razao,primeiro))\n",
    "for pa in range (primeiro,ultimo,razao):\n",
    "   print(pa)\n",
    "\n"
   ]
  },
  {
   "cell_type": "markdown",
   "metadata": {},
   "source": [
    "Exercicio 52\n",
    "\n",
    "Identificando numeros primos"
   ]
  },
  {
   "cell_type": "code",
   "execution_count": 89,
   "metadata": {},
   "outputs": [
    {
     "name": "stdout",
     "output_type": "stream",
     "text": [
      "\u001b[33m 1 \u001b[31m 2 \u001b[31m 3 \u001b[31m 4 \u001b[33m 5 \u001b[31m 6 \u001b[31m 7 \u001b[31m 8 \u001b[31m 9 \u001b[31m 10 \u001b[31m 11 \u001b[31m 12 \u001b[31m 13 \u001b[31m 14 \u001b[31m 15 \u001b[31m 16 \u001b[31m 17 \u001b[31m 18 \u001b[31m 19 \u001b[31m 20 \u001b[31m 21 \u001b[31m 22 \u001b[31m 23 \u001b[31m 24 \u001b[33m 25 Nao é numero primo\n"
     ]
    }
   ],
   "source": [
    "num=int(input(\"Digite um numero para verificar se é numero primo\"))\n",
    "tot=0\n",
    "for x in range (1,num+1):\n",
    "  if num%x==0:\n",
    "    print(\"\\33[33m\", end='')\n",
    "    tot+=1\n",
    "  else:\n",
    "    print(\"\\33[31m\", end='')\n",
    "  print(\" {} \".format(x), end='')  \n",
    "\n",
    "if tot==2:\n",
    "  print(\"Numero Primo\")\n",
    "else:\n",
    "  print(\"Nao é numero primo\")"
   ]
  },
  {
   "cell_type": "markdown",
   "metadata": {},
   "source": [
    "Exercicio 53\n",
    "A Frase é Palindromo"
   ]
  },
  {
   "cell_type": "code",
   "execution_count": 91,
   "metadata": {},
   "outputs": [
    {
     "name": "stdout",
     "output_type": "stream",
     "text": [
      "Nao é um palindromo\n"
     ]
    }
   ],
   "source": [
    "frase=str(input(\"Digite uma frase: \")).strip().upper()\n",
    "palavras=frase.split()\n",
    "junto=''.join(palavras)\n",
    "inverso=''\n",
    "for letra in range(len(junto)-1, -1,-1):\n",
    "      inverso+=junto[letra]\n",
    "if inverso==junto:\n",
    "      print(\"ë um palindromo\")\n",
    "else:\n",
    "      print(\"Nao é um palindromo\")\n"
   ]
  },
  {
   "cell_type": "markdown",
   "metadata": {},
   "source": [
    "Exercício Python 56: \n",
    "Desenvolva um programa que leia o nome, idade e sexo de 4 pessoas. No final do programa, mostre: a média de idade do grupo, qual é o nome do homem mais velho e quantas mulheres têm menos de 20 anos."
   ]
  },
  {
   "cell_type": "code",
   "execution_count": null,
   "metadata": {},
   "outputs": [],
   "source": [
    "for p in range(1.5):\n",
    "       idade=int(input(\"Digite a idade da pessoa:\"))\n",
    "       genero=str(input(\"Digite o Genero da pessoa\"))\n",
    "print()\n"
   ]
  }
 ],
 "metadata": {
  "kernelspec": {
   "display_name": "Python 3.11.0 64-bit",
   "language": "python",
   "name": "python3"
  },
  "language_info": {
   "codemirror_mode": {
    "name": "ipython",
    "version": 3
   },
   "file_extension": ".py",
   "mimetype": "text/x-python",
   "name": "python",
   "nbconvert_exporter": "python",
   "pygments_lexer": "ipython3",
   "version": "3.11.0"
  },
  "orig_nbformat": 4,
  "vscode": {
   "interpreter": {
    "hash": "aee8b7b246df8f9039afb4144a1f6fd8d2ca17a180786b69acc140d282b71a49"
   }
  }
 },
 "nbformat": 4,
 "nbformat_minor": 2
}
