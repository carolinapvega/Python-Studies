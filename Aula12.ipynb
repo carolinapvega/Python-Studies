{
 "cells": [
  {
   "cell_type": "markdown",
   "metadata": {},
   "source": [
    "Exercicio 46\n",
    "Contagem regressiva com pausa de 1 segundo entre a repetição"
   ]
  },
  {
   "cell_type": "code",
   "execution_count": 23,
   "metadata": {},
   "outputs": [
    {
     "name": "stdout",
     "output_type": "stream",
     "text": [
      "10\n",
      "9\n",
      "8\n",
      "7\n",
      "6\n",
      "5\n",
      "4\n",
      "3\n",
      "2\n",
      "1\n",
      "Já\n"
     ]
    }
   ],
   "source": [
    "from time import sleep\n",
    "\n",
    "for c in range(10, 0, -1):\n",
    "    print(c)\n",
    "    sleep(1)\n",
    "\n",
    "print(\"Já\")"
   ]
  },
  {
   "cell_type": "markdown",
   "metadata": {},
   "source": [
    "Exercicio 47 \n",
    "Todos os numeros pares entre 1 e 50"
   ]
  },
  {
   "cell_type": "code",
   "execution_count": 25,
   "metadata": {},
   "outputs": [
    {
     "name": "stdout",
     "output_type": "stream",
     "text": [
      "2\n",
      "4\n",
      "6\n",
      "8\n",
      "10\n",
      "12\n",
      "14\n",
      "16\n",
      "18\n",
      "20\n",
      "22\n",
      "24\n",
      "26\n",
      "28\n",
      "30\n",
      "32\n",
      "34\n",
      "36\n",
      "38\n",
      "40\n",
      "42\n",
      "44\n",
      "46\n",
      "48\n",
      "50\n"
     ]
    }
   ],
   "source": [
    "for p in range(2,51,2):\n",
    "    print (p)"
   ]
  },
  {
   "cell_type": "markdown",
   "metadata": {},
   "source": [
    "Exercicio 48\n",
    "Calcular a soma de todos os numero impares multiplos de 3 entre 1 e 500"
   ]
  },
  {
   "cell_type": "code",
   "execution_count": 51,
   "metadata": {},
   "outputs": [
    {
     "name": "stdout",
     "output_type": "stream",
     "text": [
      "990\n"
     ]
    }
   ],
   "source": [
    "for c in range(1,501,2):\n",
    "   if c%3==0:\n",
    "     soma = c+c\n",
    "\n",
    "print(soma)\n",
    "      "
   ]
  },
  {
   "cell_type": "markdown",
   "metadata": {},
   "source": [
    "Exercicio 49\n",
    "\n",
    "Programa que calcule a tabuada"
   ]
  },
  {
   "cell_type": "code",
   "execution_count": 30,
   "metadata": {},
   "outputs": [
    {
     "name": "stdout",
     "output_type": "stream",
     "text": [
      "1 x 50 = 50\n",
      "2 x 50 = 100\n",
      "3 x 50 = 150\n",
      "4 x 50 = 200\n",
      "5 x 50 = 250\n",
      "6 x 50 = 300\n",
      "7 x 50 = 350\n",
      "8 x 50 = 400\n",
      "9 x 50 = 450\n",
      "10 x 50 = 500\n",
      "Essa é a tabuada do 50\n"
     ]
    }
   ],
   "source": [
    "t=int(input(\"Qual tabuada voce quer que seja calculada?\"))\n",
    "for d in range (1,11):\n",
    "     print(d,\"x\", t, \"=\", (d*t))\n",
    "\n",
    "print(\"Essa é a tabuada do {}\".format(t))"
   ]
  },
  {
   "cell_type": "markdown",
   "metadata": {},
   "source": [
    "Exercicio 50"
   ]
  },
  {
   "cell_type": "code",
   "execution_count": null,
   "metadata": {},
   "outputs": [],
   "source": [
    "int1=int(input(\"Digite o primeiro numero:\"))\n",
    "int2=int(input(\"Digite o segundo numero:\"))\n",
    "int3=int(input(\"Digite o terceiro numero:\"))\n",
    "int4=int(input(\"Digite o quarto numero:\"))\n",
    "int5=int(input(\"Digite o quinto numero:\"))\n",
    "int6=int(input(\"Digite o sexto numero:\"))\n",
    "\n",
    "\n",
    "if (int1/2%0):\n",
    "    elif(int2/)\n",
    "\n"
   ]
  },
  {
   "cell_type": "markdown",
   "metadata": {},
   "source": [
    "Exercicio 51\n",
    "\n",
    "Criar uma PA com Python"
   ]
  },
  {
   "cell_type": "code",
   "execution_count": 67,
   "metadata": {},
   "outputs": [
    {
     "name": "stdout",
     "output_type": "stream",
     "text": [
      "2\n",
      "4\n",
      "6\n",
      "8\n",
      "10\n",
      "12\n",
      "14\n",
      "16\n",
      "18\n",
      "20\n"
     ]
    }
   ],
   "source": [
    "num=int(input(\"Qual o primeiro termo da funçao?\"))\n",
    "razao=int(input(\"Qual a razao da funçao?\"))\n",
    "ultimo=num+(10-1)*razao\n",
    "ultimo=ultimo+1\n",
    "for pa in range (num,ultimo,razao):\n",
    "   print(pa)\n",
    "\n"
   ]
  },
  {
   "cell_type": "markdown",
   "metadata": {},
   "source": [
    "Exercicio 52\n",
    "\n",
    "Identificando numeros primos"
   ]
  },
  {
   "cell_type": "code",
   "execution_count": null,
   "metadata": {},
   "outputs": [],
   "source": [
    "num=int(input(\"Digite um numero para verificar se é numero primo\"))\n",
    "\n"
   ]
  },
  {
   "cell_type": "markdown",
   "metadata": {},
   "source": [
    "Exercicio 53\n",
    "A Frase é Plalindroomo"
   ]
  },
  {
   "cell_type": "code",
   "execution_count": null,
   "metadata": {},
   "outputs": [],
   "source": []
  },
  {
   "cell_type": "markdown",
   "metadata": {},
   "source": [
    "Exercicio 54 "
   ]
  }
 ],
 "metadata": {
  "kernelspec": {
   "display_name": "Python 3.11.0 64-bit",
   "language": "python",
   "name": "python3"
  },
  "language_info": {
   "codemirror_mode": {
    "name": "ipython",
    "version": 3
   },
   "file_extension": ".py",
   "mimetype": "text/x-python",
   "name": "python",
   "nbconvert_exporter": "python",
   "pygments_lexer": "ipython3",
   "version": "3.11.0"
  },
  "orig_nbformat": 4,
  "vscode": {
   "interpreter": {
    "hash": "aee8b7b246df8f9039afb4144a1f6fd8d2ca17a180786b69acc140d282b71a49"
   }
  }
 },
 "nbformat": 4,
 "nbformat_minor": 2
}
