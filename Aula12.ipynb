{
 "cells": [
  {
   "cell_type": "markdown",
   "metadata": {},
   "source": [
    "Exercicio 46\n",
    "Contagem regressiva com pausa de 1 segundo entre a repetição"
   ]
  },
  {
   "cell_type": "code",
   "execution_count": null,
   "metadata": {},
   "outputs": [],
   "source": [
    "from time import sleep\n",
    "\n",
    "for c in range(10, 0, -1):\n",
    "    print(c)\n",
    "    sleep(1)\n",
    "\n",
    "print(\"Já\")"
   ]
  },
  {
   "cell_type": "markdown",
   "metadata": {},
   "source": [
    "Exercicio 47 \n",
    "Todos os numeros pares entre 1 e 50"
   ]
  },
  {
   "cell_type": "code",
   "execution_count": null,
   "metadata": {},
   "outputs": [],
   "source": [
    "for p in range(2,51,2):\n",
    "    print (p)"
   ]
  },
  {
   "cell_type": "markdown",
   "metadata": {},
   "source": [
    "Exercicio 48\n",
    "Calcular a soma de todos os numero impares multiplos de 3 entre 1 e 500"
   ]
  },
  {
   "cell_type": "code",
   "execution_count": null,
   "metadata": {},
   "outputs": [],
   "source": [
    "soma=0\n",
    "for c in range(1,501,2):\n",
    "   if c%3==0:\n",
    "     soma = soma+c\n",
    "\n",
    "print(soma)\n",
    "      "
   ]
  },
  {
   "cell_type": "markdown",
   "metadata": {},
   "source": [
    "Exercicio 49\n",
    "\n",
    "Programa que calcule a tabuada"
   ]
  },
  {
   "cell_type": "code",
   "execution_count": null,
   "metadata": {},
   "outputs": [],
   "source": [
    "t=int(input(\"Qual tabuada voce quer que seja calculada?\"))\n",
    "for d in range (1,11):\n",
    "     print(d,\"x\", t, \"=\", (d*t))\n",
    "\n",
    "print(\"Essa é a tabuada do {}\".format(t))"
   ]
  },
  {
   "cell_type": "markdown",
   "metadata": {},
   "source": [
    "Exercicio 50 - Criar uma solucao para que  se recebam numeros inteiros e somente somem os numero pares"
   ]
  },
  {
   "cell_type": "code",
   "execution_count": null,
   "metadata": {},
   "outputs": [],
   "source": [
    "soma=0\n",
    "for c in range(1,7):\n",
    " int1=int(input(\"Digiteo numero:\"))\n",
    " if int1%2==0:\n",
    "    soma=soma+int1\n",
    "print(soma)\n",
    "\n",
    "\n",
    "\n",
    "\n",
    "\n"
   ]
  },
  {
   "cell_type": "markdown",
   "metadata": {},
   "source": [
    "Exercicio 51\n",
    "\n",
    "Criar uma PA com laço for em Python"
   ]
  },
  {
   "cell_type": "code",
   "execution_count": null,
   "metadata": {},
   "outputs": [],
   "source": [
    "primeiro=int(input(\"Qual o primeiro termo da funçao?\"))\n",
    "razao=int(input(\"Qual a razao da funçao?\"))\n",
    "ultimo=primeiro+(10-1)*razao\n",
    "ultimo=ultimo+1\n",
    "print(\"Uma PA com razao {} e primeiro termo {} é:\".format(razao,primeiro))\n",
    "for pa in range (primeiro,ultimo,razao):\n",
    "   print(pa)\n",
    "\n"
   ]
  },
  {
   "cell_type": "markdown",
   "metadata": {},
   "source": [
    "Exercicio 52\n",
    "\n",
    "Identificando numeros primos"
   ]
  },
  {
   "cell_type": "code",
   "execution_count": null,
   "metadata": {},
   "outputs": [],
   "source": [
    "num=int(input(\"Digite um numero para verificar se é numero primo\"))\n",
    "tot=0\n",
    "for x in range (1,num+1):\n",
    "  if num%x==0:\n",
    "    print(\"\\33[33m\", end='')\n",
    "    tot+=1\n",
    "  else:\n",
    "    print(\"\\33[31m\", end='')\n",
    "  print(\" {} \".format(x), end='')  \n",
    "\n",
    "if tot==2:\n",
    "  print(\"Numero Primo\")\n",
    "else:\n",
    "  print(\"Nao é numero primo\")"
   ]
  },
  {
   "cell_type": "markdown",
   "metadata": {},
   "source": [
    "Exercicio 53\n",
    "A Frase é Palindromo"
   ]
  },
  {
   "cell_type": "code",
   "execution_count": null,
   "metadata": {},
   "outputs": [],
   "source": [
    "frase=str(input(\"Digite uma frase: \")).strip().upper()\n",
    "palavras=frase.split()\n",
    "junto=''.join(palavras)\n",
    "inverso=''\n",
    "for letra in range(len(junto)-1, -1,-1):\n",
    "      inverso+=junto[letra]\n",
    "if inverso==junto:\n",
    "      print(\"ë um palindromo\")\n",
    "else:\n",
    "      print(\"Nao é um palindromo\")\n"
   ]
  },
  {
   "cell_type": "markdown",
   "metadata": {},
   "source": [
    "Exercício Python 56: \n",
    "Desenvolva um programa que leia o nome, idade e sexo de 4 pessoas. No final do programa, mostre: a média de idade do grupo, qual é o nome do homem mais velho e quantas mulheres têm menos de 20 anos."
   ]
  },
  {
   "cell_type": "code",
   "execution_count": null,
   "metadata": {},
   "outputs": [],
   "source": [
    "idadeF=0\n",
    "idadeM=0\n",
    "maiorM=0\n",
    "generoM=0\n",
    "generoF=0\n",
    "totF20=0\n",
    "nomemaisvelho=''\n",
    "for p in range(1,5):\n",
    "    nome=str(input(\"Digite a nome da pessoa:\"))\n",
    "    idade=int(input(\"Digite a idade da pessoa:\"))\n",
    "    genero=str(input(\"Digite o Genero da pessoa\")).strip()\n",
    "    print(nome,idade,genero)\n",
    "    if genero==\"M\":\n",
    "        generoM+=1\n",
    "        idadeM=idadeM+idade\n",
    "    else:\n",
    "        generoF+=1\n",
    "        idadeF=idadeF+idade\n",
    "    \n",
    "    if maiorM<idade and genero==\"M\":\n",
    "        nomemaisvelho=nome\n",
    "        maiorM=idade\n",
    "    if genero==\"F\" and idade<=20:\n",
    "        totF20+=1\n",
    "\n",
    "mediaT=(idadeM+idadeF)/p\n",
    "mediaF=idadeF/generoF\n",
    "mediaM=idadeM/generoM\n",
    "print('''\"Media das Idades total e de cada grupo é:\n",
    "Masculino:{:.2f}\n",
    "Feminino: {:.2f}\n",
    "Total: {:.2f}\"'''.format(mediaM,mediaF, mediaT))\n",
    "print(\"O homem mais velha do grupo é {} \".format(nomemaisvelho))\n",
    "print(\"O grupo tem {} mulheres com menos de 20 anos\".format(totF20))\n",
    "      "
   ]
  }
 ],
 "metadata": {
  "kernelspec": {
   "display_name": "Python 3.11.0 64-bit",
   "language": "python",
   "name": "python3"
  },
  "language_info": {
   "codemirror_mode": {
    "name": "ipython",
    "version": 3
   },
   "file_extension": ".py",
   "mimetype": "text/x-python",
   "name": "python",
   "nbconvert_exporter": "python",
   "pygments_lexer": "ipython3",
   "version": "3.11.0"
  },
  "orig_nbformat": 4,
  "vscode": {
   "interpreter": {
    "hash": "aee8b7b246df8f9039afb4144a1f6fd8d2ca17a180786b69acc140d282b71a49"
   }
  }
 },
 "nbformat": 4,
 "nbformat_minor": 2
}
