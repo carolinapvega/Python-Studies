{
 "cells": [
  {
   "cell_type": "markdown",
   "metadata": {},
   "source": [
    "Exercicio 57\n",
    "Exercício Python 57: Faça um programa que leia o sexo de uma pessoa, mas só aceite os valores ‘M’ ou ‘F’. Caso esteja errado, peça a digitação novamente até ter um valor correto."
   ]
  },
  {
   "cell_type": "code",
   "execution_count": 2,
   "metadata": {},
   "outputs": [
    {
     "name": "stdout",
     "output_type": "stream",
     "text": [
      "Genero nao aceito\n",
      "Genero nao aceito\n",
      "Genero é N\n"
     ]
    }
   ],
   "source": [
    "genero=str(input(\"Digite o genero:\")).upper()\n",
    "\n",
    "\n",
    "\n",
    "while genero not in \"MFNO\":\n",
    "    \n",
    "\n",
    " print(\"Genero nao aceito\")\n",
    " genero=str(input(\"Digite o genero:\")).upper()\n",
    " \n",
    "print(\"Genero é {}\".format(genero))\n"
   ]
  },
  {
   "cell_type": "markdown",
   "metadata": {},
   "source": [
    "Exercicio 58\n",
    "Computador vai sortear um numero entre 0 e 10 e o usuario vai tentar advinhar o numero o jogo so acaba quando ussuario advinha."
   ]
  },
  {
   "cell_type": "code",
   "execution_count": null,
   "metadata": {},
   "outputs": [],
   "source": [
    "from random import randint\n",
    "computador=randint(0,10)\n",
    "usuario=int(input(\"Digite o seu numero da sorte:\"))\n",
    "\n",
    "while computador!=usuario:\n",
    "    print(\"Voce nao esta com sorte hoje!\")\n",
    "    usuario=int(input(\"Tente novamente o seu numero da sorte:\"))\n",
    "\n",
    "print(\"Acertou! Parabés, voce está com sorte!\")"
   ]
  },
  {
   "cell_type": "markdown",
   "metadata": {},
   "source": [
    "Exercicio 59\n",
    "Criar um programa que receba dois valores e mostre um Menu na tela sobre operacoes, somar, multiplicar, maior, novoc numeros e sair do programa. O programa devera realizar a operacao solicitada em cada caso."
   ]
  },
  {
   "cell_type": "code",
   "execution_count": null,
   "metadata": {},
   "outputs": [],
   "source": [
    "valor1=float(input(\"Digite o primeiro valor:\"))\n",
    "valor2=float(input(\"Digite o segundo valor:\"))\n",
    "soma=0\n",
    "multi=0\n",
    "opcao=int(input('''Selecione uma operacao:\n",
    "[1] SOMAR\n",
    "[2] MULTIPLICAR\n",
    "[3] MAIOR\n",
    "[4] NOVOS NUMEROS\n",
    "[5] SAIR DO PROGRAMA'''))\n",
    "while opcao!=5:\n",
    " print(opcao)\n",
    " if opcao==1:\n",
    "  soma=(valor1+valor2)\n",
    "  print(soma)\n",
    "  print\n",
    " elif opcao==2:\n",
    "    multi=(valor1*valor2)\n",
    "    print(multi)\n",
    " elif opcao==3:\n",
    "    if valor1>valor2:\n",
    "        print(valor1)\n",
    "    else:\n",
    "        print(valor2)\n",
    " elif opcao==4:\n",
    "    valor1=float(input(\"Digite o primeiro valor:\"))\n",
    "    valor2=float(input(\"Digite o segundo valor:\"))\n",
    " else:\n",
    "    print(\"Opçao invalida\")\n",
    "print(opcao)\n",
    "print(\"Voce saiu do programa\")"
   ]
  },
  {
   "cell_type": "markdown",
   "metadata": {},
   "source": [
    "Exercicio 60\n",
    "Escolher um numero e calcular seu fatorial"
   ]
  },
  {
   "cell_type": "code",
   "execution_count": null,
   "metadata": {},
   "outputs": [],
   "source": [
    "numero=int(input(\"Escolha um numero:\"))\n",
    "c=(numero-1)\n",
    "fatorial=numero\n",
    "while c > 0:\n",
    "    fatorial=fatorial*c\n",
    "    c-=1\n",
    "print(\"O fatorial de {} é {}\".format(numero,fatorial))"
   ]
  },
  {
   "cell_type": "markdown",
   "metadata": {},
   "source": [
    "Exercicio 61\n",
    "\n",
    "Criar uma PA com laço While "
   ]
  },
  {
   "cell_type": "code",
   "execution_count": null,
   "metadata": {},
   "outputs": [],
   "source": [
    "primeiro=int(input(\"Qual o primeiro termo da funçao?\"))\n",
    "razao=int(input(\"Qual a razao da funçao?\"))\n",
    "ultimo=primeiro+(10-1)*razao\n",
    "ultimo=ultimo+1\n",
    "pa=primeiro\n",
    "while pa <=ultimo:\n",
    "     print(pa)\n",
    "     pa=pa+razao\n",
    "print(\"Uma PA com razao {} e primeiro termo {} é:\".format(razao,primeiro))"
   ]
  }
 ],
 "metadata": {
  "kernelspec": {
   "display_name": "Python 3.11.0 64-bit",
   "language": "python",
   "name": "python3"
  },
  "language_info": {
   "codemirror_mode": {
    "name": "ipython",
    "version": 3
   },
   "file_extension": ".py",
   "mimetype": "text/x-python",
   "name": "python",
   "nbconvert_exporter": "python",
   "pygments_lexer": "ipython3",
   "version": "3.11.0"
  },
  "orig_nbformat": 4,
  "vscode": {
   "interpreter": {
    "hash": "aee8b7b246df8f9039afb4144a1f6fd8d2ca17a180786b69acc140d282b71a49"
   }
  }
 },
 "nbformat": 4,
 "nbformat_minor": 2
}
