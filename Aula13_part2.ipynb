{
 "cells": [
  {
   "cell_type": "markdown",
   "metadata": {},
   "source": [
    "Exercicio 63\n",
    "\n",
    "Fibonacci"
   ]
  },
  {
   "cell_type": "code",
   "execution_count": null,
   "metadata": {},
   "outputs": [],
   "source": [
    "num=int(input(\"Digite o primeiro termo da Sequencia Fibonacci\"))\n",
    "elemento=int(input(\"Diga quantos termos devemos mostrar:\"))\n",
    "fib=num\n",
    "c=num\n",
    "t=0\n",
    "while t<=elemento:\n",
    "    penultimo=fib\n",
    "    fib=fib+c\n",
    "    c=penultimo\n",
    "    print (c)\n",
    "    t+=1\n",
    "print(\"fim\".format())"
   ]
  },
  {
   "cell_type": "markdown",
   "metadata": {},
   "source": [
    "Exercicio 64\n",
    "Programa que leia varios numeros ate que o usuario digite 999 e que some a conte a quantidade de numeros digitados"
   ]
  },
  {
   "cell_type": "code",
   "execution_count": null,
   "metadata": {},
   "outputs": [],
   "source": [
    "numero=int(input(\"Escolha um numero:\"))\n",
    "soma=0\n",
    "count=0\n",
    "while numero!=999:\n",
    "    soma=soma+numero\n",
    "    count+=1\n",
    "    numero=int(input(\"Escolha um numero:\"))\n",
    "print(\"A soma dos {} numeros digitados é {} \".format(count,soma))"
   ]
  },
  {
   "cell_type": "markdown",
   "metadata": {},
   "source": [
    "Exercicio 65\n",
    "Programa que leia os numeros ate que o usuario digite que nao quer conitnuar e faca a media dos valores digitados e mostre qual o maior e o menor valor digitado"
   ]
  },
  {
   "cell_type": "code",
   "execution_count": null,
   "metadata": {},
   "outputs": [],
   "source": [
    "soma=0\n",
    "count=0\n",
    "media=0\n",
    "maior=0\n",
    "menor=numero\n",
    "continuar= \"S\"\n",
    "while continuar != \"N\":\n",
    "    numero=int(input(\"Escolha um numero:\"))\n",
    "    soma=soma+numero\n",
    "    count+=1\n",
    "    media=soma/count\n",
    "    if numero>maior:\n",
    "        maior=numero\n",
    "    if numero<menor:\n",
    "        menor=numero\n",
    "    continuar=str(input(\"Quer continuar S/N?\"))\n",
    "    \n",
    "print(\"A media dos {} numeros digitados é {} \".format(count, media))\n",
    "print(\"O maior numero digitado é {} e o menor é {}\".format(maior,menor))"
   ]
  }
 ],
 "metadata": {
  "kernelspec": {
   "display_name": "Python 3.11.0 64-bit",
   "language": "python",
   "name": "python3"
  },
  "language_info": {
   "name": "python",
   "version": "3.11.0"
  },
  "orig_nbformat": 4,
  "vscode": {
   "interpreter": {
    "hash": "aee8b7b246df8f9039afb4144a1f6fd8d2ca17a180786b69acc140d282b71a49"
   }
  }
 },
 "nbformat": 4,
 "nbformat_minor": 2
}
