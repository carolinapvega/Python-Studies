{
 "cells": [
  {
   "cell_type": "markdown",
   "metadata": {},
   "source": [
    "Exercício Python 62: Melhore o DESAFIO 61, perguntando para o usuário se ele quer mostrar mais alguns termos. O programa encerrará quando ele disser que quer mostrar 0 termos.\n"
   ]
  },
  {
   "cell_type": "code",
   "execution_count": 12,
   "metadata": {},
   "outputs": [
    {
     "name": "stdout",
     "output_type": "stream",
     "text": [
      "\n",
      "Uma PA com razao 2 onde o primeiro termo é 5 = : 5 -> 7 -> 9 -> 11 -> 13 -> 15 -> 17 -> 19 -> 21 -> 23 FIM\n",
      "Uma PA com razao 2 onde o primeiro termo é 5 = : 5 -> 7 -> 9 FIM\n",
      "Uma PA com razao 2 onde o primeiro termo é 5 = : 5 -> 7 -> 9 -> 11 -> 13 FIM\n",
      "Uma PA com razao 2 onde o primeiro termo é 5 = : 5 -> 7 -> 9 -> 11 -> 13 -> 15 -> 17 -> 19 -> 21 FIM\n",
      "Se voce quer 0 termos esse programa terminou \n"
     ]
    }
   ],
   "source": [
    "primeiro=int(input(\"Qual o primeiro termo da funçao?\"))\n",
    "razao=int(input(\"Qual a razao da PA?\"))\n",
    "termos=0\n",
    "termos=int(input(\"Quantos termos voce quer ver na PA?\"))\n",
    "while termos != 0:\n",
    "    ultimo=primeiro+(termos-1)*razao\n",
    "    ultimo=ultimo+1\n",
    "    pa=primeiro\n",
    "    print( \"Uma PA com razao {} onde o primeiro termo é {} = : \".format(razao,primeiro), end=\"\")\n",
    "    while pa <=ultimo:\n",
    "     print(pa, end=\"\")\n",
    "     print(\" -> \" if pa < ultimo-1 else \" FIM\", end=\"\")\n",
    "     pa=pa+razao\n",
    "    termos=int(input(\"Quantos termos voce quer ver na PA?\"))\n",
    "print(\"\\n\" \"Se voce quer 0 termos esse programa terminou \")"
   ]
  },
  {
   "cell_type": "markdown",
   "metadata": {},
   "source": [
    "Exercicio 63\n",
    "\n",
    "Fibonacci"
   ]
  },
  {
   "cell_type": "code",
   "execution_count": 16,
   "metadata": {},
   "outputs": [
    {
     "name": "stdout",
     "output_type": "stream",
     "text": [
      "3 -> 6 -> 9 -> 15 -> 24 -> 39 -> 63 -> 102 -> 165 -> 267 -> 432 -> fim\n"
     ]
    }
   ],
   "source": [
    "num=int(input(\"Digite o primeiro termo da Sequencia Fibonacci\"))\n",
    "elemento=int(input(\"Diga quantos termos devemos mostrar:\"))\n",
    "fib=num\n",
    "c=num\n",
    "t=0\n",
    "while t<=elemento:\n",
    "    penultimo=fib\n",
    "    fib=fib+c\n",
    "    c=penultimo\n",
    "    print (\"{} -> \".format(c), end=\"\")\n",
    "    t+=1\n",
    "print(\"fim\".format())"
   ]
  },
  {
   "cell_type": "markdown",
   "metadata": {},
   "source": [
    "Exercicio 64\n",
    "Programa que leia varios numeros ate que o usuario digite 999 e que some a conte a quantidade de numeros digitados"
   ]
  },
  {
   "cell_type": "code",
   "execution_count": 18,
   "metadata": {},
   "outputs": [
    {
     "name": "stdout",
     "output_type": "stream",
     "text": [
      "A soma dos 4 numeros digitados é 1009 \n"
     ]
    }
   ],
   "source": [
    "numero=int(input(\"Escolha um numero:\"))\n",
    "soma=0\n",
    "count=0\n",
    "while numero!=999:\n",
    "    soma=soma+numero\n",
    "    count+=1\n",
    "    numero=int(input(\"Escolha um numero:\"))\n",
    "print(\"A soma dos {} numeros digitados é {} \".format(count,soma))"
   ]
  },
  {
   "cell_type": "markdown",
   "metadata": {},
   "source": [
    "Exercicio 65\n",
    "Programa que leia os numeros ate que o usuario digite que nao quer conitnuar e faca a media dos valores digitados e mostre qual o maior e o menor valor digitado"
   ]
  },
  {
   "cell_type": "code",
   "execution_count": 19,
   "metadata": {},
   "outputs": [
    {
     "name": "stdout",
     "output_type": "stream",
     "text": [
      "A media dos 4 numeros digitados é 19.0 \n",
      "O maior numero digitado é 55 e o menor é 5\n"
     ]
    }
   ],
   "source": [
    "soma=0\n",
    "count=0\n",
    "media=0\n",
    "maior=0\n",
    "menor=numero\n",
    "continuar= \"S\"\n",
    "while continuar != \"N\":\n",
    "    numero=int(input(\"Escolha um numero:\"))\n",
    "    soma=soma+numero\n",
    "    count+=1\n",
    "    media=soma/count\n",
    "    if numero>maior:\n",
    "        maior=numero\n",
    "    if numero<menor:\n",
    "        menor=numero\n",
    "    continuar=str(input(\"Quer continuar S/N?\"))\n",
    "    \n",
    "print(\"A media dos {} numeros digitados é {} \".format(count, media))\n",
    "print(\"O maior numero digitado é {} e o menor é {}\".format(maior,menor))"
   ]
  }
 ],
 "metadata": {
  "kernelspec": {
   "display_name": "Python 3.11.0 64-bit",
   "language": "python",
   "name": "python3"
  },
  "language_info": {
   "codemirror_mode": {
    "name": "ipython",
    "version": 3
   },
   "file_extension": ".py",
   "mimetype": "text/x-python",
   "name": "python",
   "nbconvert_exporter": "python",
   "pygments_lexer": "ipython3",
   "version": "3.11.0"
  },
  "orig_nbformat": 4,
  "vscode": {
   "interpreter": {
    "hash": "aee8b7b246df8f9039afb4144a1f6fd8d2ca17a180786b69acc140d282b71a49"
   }
  }
 },
 "nbformat": 4,
 "nbformat_minor": 2
}
