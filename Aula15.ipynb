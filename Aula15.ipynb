{
 "cells": [
  {
   "cell_type": "markdown",
   "metadata": {},
   "source": [
    "Exercicio 67"
   ]
  },
  {
   "cell_type": "code",
   "execution_count": 13,
   "metadata": {},
   "outputs": [
    {
     "name": "stdout",
     "output_type": "stream",
     "text": [
      "--------------------\n",
      "SUA TABUADA\n",
      "--------------------\n",
      "1 x 5 = 5\n",
      "2 x 5 = 10\n",
      "3 x 5 = 15\n",
      "4 x 5 = 20\n",
      "5 x 5 = 25\n",
      "6 x 5 = 30\n",
      "7 x 5 = 35\n",
      "8 x 5 = 40\n",
      "9 x 5 = 45\n",
      "10 x 5 = 50\n",
      "--------------------\n",
      "SUA TABUADA\n",
      "--------------------\n",
      "1 x 3 = 3\n",
      "2 x 3 = 6\n",
      "3 x 3 = 9\n",
      "4 x 3 = 12\n",
      "5 x 3 = 15\n",
      "6 x 3 = 18\n",
      "7 x 3 = 21\n",
      "8 x 3 = 24\n",
      "9 x 3 = 27\n",
      "10 x 3 = 30\n",
      "--------------------\n",
      "SUA TABUADA\n",
      "--------------------\n",
      "1 x 2 = 2\n",
      "2 x 2 = 4\n",
      "3 x 2 = 6\n",
      "4 x 2 = 8\n",
      "5 x 2 = 10\n",
      "6 x 2 = 12\n",
      "7 x 2 = 14\n",
      "8 x 2 = 16\n",
      "9 x 2 = 18\n",
      "10 x 2 = 20\n",
      "--------------------\n",
      "SUA TABUADA\n",
      "--------------------\n"
     ]
    }
   ],
   "source": [
    "\n",
    "d=num=0\n",
    "while True:\n",
    " t=int(input(\"Digite o numero que vc quer ver a tabuada:\"))\n",
    " print(\"-\"*20)\n",
    " print(\"SUA TABUADA\")\n",
    " print(\"-\"*20)   \n",
    " d=1\n",
    " if t<0:\n",
    "        break   \n",
    " \n",
    " while d <11:\n",
    "      print(d,\"x\", t, \"=\", (d*t))\n",
    "      d+=1\n",
    "     \n",
    " "
   ]
  },
  {
   "cell_type": "markdown",
   "metadata": {},
   "source": [
    "Exercicio 68"
   ]
  },
  {
   "cell_type": "code",
   "execution_count": 31,
   "metadata": {},
   "outputs": [
    {
     "name": "stdout",
     "output_type": "stream",
     "text": [
      "******************************\n",
      "Jogo de PAR ou IMPAR\n",
      "******************************\n"
     ]
    }
   ],
   "source": [
    "from random import randint\n",
    "print(\"*\"*30)\n",
    "print(\"Jogo de PAR ou IMPAR\")\n",
    "print(\"*\"*30)\n",
    "aposta=int(input('''\"Escolha:\n",
    "[1] PAR\n",
    "[2]IMPAR\"'''))\n",
    "computador=randint(0,100)\n",
    "jogador=int(input(\"Digite seu numero:\"))\n",
    "total=computador+jogador\n",
    "par= total%2\n",
    "ganhou=0\n",
    "print(computador, jogador,total, par, aposta)\n",
    "while True:\n",
    " if par==0 and aposta==1:\n",
    "    print(\"o Total é {}, PAR, voce ganhou!\".format(total))\n",
    "    break\n",
    " elif par!=0 and aposta==2:\n",
    "      print(\"Total é {}, impar, voce ganhou!\".format(total))\n",
    "      break\n",
    " elif par==0 and aposta==2:\n",
    "     print(\"o Total é {}, PAR, voce perdeu!\".format(total))\n",
    " else:\n",
    "     print(\"o Total é {}, IMPAR, voce perdeu!\".format(total))"
   ]
  }
 ],
 "metadata": {
  "kernelspec": {
   "display_name": "Python 3.11.0 64-bit",
   "language": "python",
   "name": "python3"
  },
  "language_info": {
   "codemirror_mode": {
    "name": "ipython",
    "version": 3
   },
   "file_extension": ".py",
   "mimetype": "text/x-python",
   "name": "python",
   "nbconvert_exporter": "python",
   "pygments_lexer": "ipython3",
   "version": "3.11.0"
  },
  "orig_nbformat": 4,
  "vscode": {
   "interpreter": {
    "hash": "aee8b7b246df8f9039afb4144a1f6fd8d2ca17a180786b69acc140d282b71a49"
   }
  }
 },
 "nbformat": 4,
 "nbformat_minor": 2
}
